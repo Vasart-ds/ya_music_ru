{
 "cells": [
  {
   "cell_type": "markdown",
   "metadata": {
    "deletable": false,
    "id": "E0vqbgi9ay0H"
   },
   "source": [
    "# Вступление\n",
    "\n",
    "Добрый день. Меня зовут Васюхин Артём и это мой проект по анализу данных сервиса \"Яндекс.Музыка\""
   ]
  },
  {
   "cell_type": "markdown",
   "metadata": {
    "deletable": false,
    "id": "VUC88oWjTJw2"
   },
   "source": [
    "## Описание проекта\n",
    "\n",
    "Мы располагаем данными сервиса \"Яндекс.Музыка\". Наша задача - ознакомиться с данными, провести предобработку и исследовательский анализ данных пользователей Москвы и Санкт-Петербурга.\n",
    "\n",
    "**Цель исследования** — проверьте три гипотезы:\n",
    "1. Активность пользователей зависит от дня недели. Причём в Москве и Петербурге это проявляется по-разному.\n",
    "2. В понедельник утром в Москве преобладают одни жанры, а в Петербурге — другие. Так же и вечером пятницы преобладают разные жанры — в зависимости от города. \n",
    "3. Москва и Петербург предпочитают разные жанры музыки. В Москве чаще слушают поп-музыку, в Петербурге — русский рэп.\n",
    "\n",
    "\n",
    "Данные имеют табличную форму со следующими полями:\n",
    "* `userID` — идентификатор пользователя;\n",
    "* `Track` — название трека;  \n",
    "* `artist` — имя исполнителя;\n",
    "* `genre` — название жанра;\n",
    "* `City` — город пользователя;\n",
    "* `time` — время начала прослушивания;\n",
    "* `Day` — день недели.\n"
   ]
  },
  {
   "cell_type": "markdown",
   "metadata": {
    "deletable": false,
    "id": "Ml1hmfXC_Zcs"
   },
   "source": [
    "## Импорт библиотек и данных"
   ]
  },
  {
   "cell_type": "code",
   "execution_count": 18,
   "metadata": {
    "deletable": false,
    "id": "AXN7PHPN_Zcs"
   },
   "outputs": [],
   "source": [
    "import pandas as pd # импорт библиотеки pandas\n",
    "import numpy as np\n",
    "import matplotlib.pyplot as plt\n",
    "import seaborn as sns"
   ]
  },
  {
   "cell_type": "code",
   "execution_count": 19,
   "metadata": {
    "deletable": false,
    "id": "fFVu7vqh_Zct"
   },
   "outputs": [
    {
     "data": {
      "text/html": [
       "<div>\n",
       "<style scoped>\n",
       "    .dataframe tbody tr th:only-of-type {\n",
       "        vertical-align: middle;\n",
       "    }\n",
       "\n",
       "    .dataframe tbody tr th {\n",
       "        vertical-align: top;\n",
       "    }\n",
       "\n",
       "    .dataframe thead th {\n",
       "        text-align: right;\n",
       "    }\n",
       "</style>\n",
       "<table border=\"1\" class=\"dataframe\">\n",
       "  <thead>\n",
       "    <tr style=\"text-align: right;\">\n",
       "      <th></th>\n",
       "      <th>userID</th>\n",
       "      <th>Track</th>\n",
       "      <th>artist</th>\n",
       "      <th>genre</th>\n",
       "      <th>City</th>\n",
       "      <th>time</th>\n",
       "      <th>Day</th>\n",
       "    </tr>\n",
       "  </thead>\n",
       "  <tbody>\n",
       "    <tr>\n",
       "      <th>0</th>\n",
       "      <td>FFB692EC</td>\n",
       "      <td>Kamigata To Boots</td>\n",
       "      <td>The Mass Missile</td>\n",
       "      <td>rock</td>\n",
       "      <td>Saint-Petersburg</td>\n",
       "      <td>20:28:33</td>\n",
       "      <td>Wednesday</td>\n",
       "    </tr>\n",
       "    <tr>\n",
       "      <th>1</th>\n",
       "      <td>55204538</td>\n",
       "      <td>Delayed Because of Accident</td>\n",
       "      <td>Andreas Rönnberg</td>\n",
       "      <td>rock</td>\n",
       "      <td>Moscow</td>\n",
       "      <td>14:07:09</td>\n",
       "      <td>Friday</td>\n",
       "    </tr>\n",
       "    <tr>\n",
       "      <th>2</th>\n",
       "      <td>20EC38</td>\n",
       "      <td>Funiculì funiculà</td>\n",
       "      <td>Mario Lanza</td>\n",
       "      <td>pop</td>\n",
       "      <td>Saint-Petersburg</td>\n",
       "      <td>20:58:07</td>\n",
       "      <td>Wednesday</td>\n",
       "    </tr>\n",
       "    <tr>\n",
       "      <th>3</th>\n",
       "      <td>A3DD03C9</td>\n",
       "      <td>Dragons in the Sunset</td>\n",
       "      <td>Fire + Ice</td>\n",
       "      <td>folk</td>\n",
       "      <td>Saint-Petersburg</td>\n",
       "      <td>08:37:09</td>\n",
       "      <td>Monday</td>\n",
       "    </tr>\n",
       "    <tr>\n",
       "      <th>4</th>\n",
       "      <td>E2DC1FAE</td>\n",
       "      <td>Soul People</td>\n",
       "      <td>Space Echo</td>\n",
       "      <td>dance</td>\n",
       "      <td>Moscow</td>\n",
       "      <td>08:34:34</td>\n",
       "      <td>Monday</td>\n",
       "    </tr>\n",
       "    <tr>\n",
       "      <th>5</th>\n",
       "      <td>842029A1</td>\n",
       "      <td>Преданная</td>\n",
       "      <td>IMPERVTOR</td>\n",
       "      <td>rusrap</td>\n",
       "      <td>Saint-Petersburg</td>\n",
       "      <td>13:09:41</td>\n",
       "      <td>Friday</td>\n",
       "    </tr>\n",
       "    <tr>\n",
       "      <th>6</th>\n",
       "      <td>4CB90AA5</td>\n",
       "      <td>True</td>\n",
       "      <td>Roman Messer</td>\n",
       "      <td>dance</td>\n",
       "      <td>Moscow</td>\n",
       "      <td>13:00:07</td>\n",
       "      <td>Wednesday</td>\n",
       "    </tr>\n",
       "    <tr>\n",
       "      <th>7</th>\n",
       "      <td>F03E1C1F</td>\n",
       "      <td>Feeling This Way</td>\n",
       "      <td>Polina Griffith</td>\n",
       "      <td>dance</td>\n",
       "      <td>Moscow</td>\n",
       "      <td>20:47:49</td>\n",
       "      <td>Wednesday</td>\n",
       "    </tr>\n",
       "    <tr>\n",
       "      <th>8</th>\n",
       "      <td>8FA1D3BE</td>\n",
       "      <td>И вновь продолжается бой</td>\n",
       "      <td>NaN</td>\n",
       "      <td>ruspop</td>\n",
       "      <td>Moscow</td>\n",
       "      <td>09:17:40</td>\n",
       "      <td>Friday</td>\n",
       "    </tr>\n",
       "    <tr>\n",
       "      <th>9</th>\n",
       "      <td>E772D5C0</td>\n",
       "      <td>Pessimist</td>\n",
       "      <td>NaN</td>\n",
       "      <td>dance</td>\n",
       "      <td>Saint-Petersburg</td>\n",
       "      <td>21:20:49</td>\n",
       "      <td>Wednesday</td>\n",
       "    </tr>\n",
       "  </tbody>\n",
       "</table>\n",
       "</div>"
      ],
      "text/plain": [
       "     userID                        Track            artist   genre  \\\n",
       "0  FFB692EC            Kamigata To Boots  The Mass Missile    rock   \n",
       "1  55204538  Delayed Because of Accident  Andreas Rönnberg    rock   \n",
       "2    20EC38            Funiculì funiculà       Mario Lanza     pop   \n",
       "3  A3DD03C9        Dragons in the Sunset        Fire + Ice    folk   \n",
       "4  E2DC1FAE                  Soul People        Space Echo   dance   \n",
       "5  842029A1                    Преданная         IMPERVTOR  rusrap   \n",
       "6  4CB90AA5                         True      Roman Messer   dance   \n",
       "7  F03E1C1F             Feeling This Way   Polina Griffith   dance   \n",
       "8  8FA1D3BE     И вновь продолжается бой               NaN  ruspop   \n",
       "9  E772D5C0                    Pessimist               NaN   dance   \n",
       "\n",
       "             City        time        Day  \n",
       "0  Saint-Petersburg  20:28:33  Wednesday  \n",
       "1            Moscow  14:07:09     Friday  \n",
       "2  Saint-Petersburg  20:58:07  Wednesday  \n",
       "3  Saint-Petersburg  08:37:09     Monday  \n",
       "4            Moscow  08:34:34     Monday  \n",
       "5  Saint-Petersburg  13:09:41     Friday  \n",
       "6            Moscow  13:00:07  Wednesday  \n",
       "7            Moscow  20:47:49  Wednesday  \n",
       "8            Moscow  09:17:40     Friday  \n",
       "9  Saint-Petersburg  21:20:49  Wednesday  "
      ]
     },
     "execution_count": 19,
     "metadata": {},
     "output_type": "execute_result"
    }
   ],
   "source": [
    "df = pd.read_csv('yandex_music_project.csv')\n",
    "df.head(10)"
   ]
  },
  {
   "cell_type": "code",
   "execution_count": 20,
   "metadata": {
    "deletable": false,
    "id": "DSf2kIb-_Zct"
   },
   "outputs": [
    {
     "name": "stdout",
     "output_type": "stream",
     "text": [
      "<class 'pandas.core.frame.DataFrame'>\n",
      "RangeIndex: 65079 entries, 0 to 65078\n",
      "Data columns (total 7 columns):\n",
      " #   Column    Non-Null Count  Dtype \n",
      "---  ------    --------------  ----- \n",
      " 0     userID  65079 non-null  object\n",
      " 1   Track     63848 non-null  object\n",
      " 2   artist    57876 non-null  object\n",
      " 3   genre     63881 non-null  object\n",
      " 4     City    65079 non-null  object\n",
      " 5   time      65079 non-null  object\n",
      " 6   Day       65079 non-null  object\n",
      "dtypes: object(7)\n",
      "memory usage: 3.5+ MB\n"
     ]
    }
   ],
   "source": [
    "df.info() # получение общей информации о данных в таблице df"
   ]
  },
  {
   "cell_type": "markdown",
   "metadata": {
    "id": "MCB6-dXG_Zct"
   },
   "source": [
    "**Выводы**\n",
    "\n",
    "В каждой строке таблицы — данные о прослушанном треке. Часть колонок описывает саму композицию: название, исполнителя и жанр. Остальные данные рассказывают о пользователе: из какого он города, когда он слушал музыку. \n",
    "\n",
    "Предварительно можно утверждать, что данных достаточно для проверки гипотез. Но встречаются пропуски в данных, а в названиях колонок — некорректный формат написания названий.\n",
    "\n",
    "Чтобы двигаться дальше, нужно устранить проблемы в данных."
   ]
  },
  {
   "cell_type": "markdown",
   "metadata": {
    "id": "SjYF6Ub9_Zct"
   },
   "source": [
    "## Предобработка данных"
   ]
  },
  {
   "cell_type": "code",
   "execution_count": 21,
   "metadata": {
    "deletable": false,
    "id": "oKOTdF_Q_Zct"
   },
   "outputs": [
    {
     "data": {
      "text/plain": [
       "Index(['  userID', 'Track', 'artist', 'genre', '  City  ', 'time', 'Day'], dtype='object')"
      ]
     },
     "execution_count": 21,
     "metadata": {},
     "output_type": "execute_result"
    }
   ],
   "source": [
    "df.columns # перечень названий столбцов таблицы df"
   ]
  },
  {
   "cell_type": "code",
   "execution_count": 22,
   "metadata": {},
   "outputs": [
    {
     "data": {
      "text/plain": [
       "Index(['user_id', 'track', 'artist', 'genre', 'city', 'time', 'day'], dtype='object')"
      ]
     },
     "execution_count": 22,
     "metadata": {},
     "output_type": "execute_result"
    }
   ],
   "source": [
    "df.columns = df.columns.str.strip()\n",
    "df = df.rename(columns={'userID': 'user_id', \n",
    "                        'Track': 'track', \n",
    "                        'City': 'city', \n",
    "                        'Day': 'day'}) \n",
    "df.columns"
   ]
  },
  {
   "cell_type": "markdown",
   "metadata": {
    "id": "5ISfbcfY_Zct",
    "tags": [
     "start_task"
    ]
   },
   "source": [
    "### Пропуски"
   ]
  },
  {
   "cell_type": "code",
   "execution_count": 23,
   "metadata": {
    "deletable": false,
    "id": "RskX29qr_Zct"
   },
   "outputs": [
    {
     "data": {
      "text/plain": [
       "user_id       0\n",
       "track      1231\n",
       "artist     7203\n",
       "genre      1198\n",
       "city          0\n",
       "time          0\n",
       "day           0\n",
       "dtype: int64"
      ]
     },
     "execution_count": 23,
     "metadata": {},
     "output_type": "execute_result"
    }
   ],
   "source": [
    "df.isna().sum() # подсчёт пропусков"
   ]
  },
  {
   "cell_type": "markdown",
   "metadata": {
    "id": "qubhgnlO_Zct"
   },
   "source": [
    "Пропуски в `track` и `artist` не важны для нашего текущего исследования. Они будут заменены явными обозначеиями.\n",
    "\n",
    "Прпоуски в `genre` могут помешать сравнению музыкальных вкусов в Москве и Санкт-Петербурге. Учитывая, что данные закодированы, то заполнить пропуски корректно мы не можем. Таким образом, мы их также заполним явным обозначением."
   ]
  },
  {
   "cell_type": "code",
   "execution_count": 24,
   "metadata": {},
   "outputs": [
    {
     "data": {
      "text/html": [
       "<div>\n",
       "<style scoped>\n",
       "    .dataframe tbody tr th:only-of-type {\n",
       "        vertical-align: middle;\n",
       "    }\n",
       "\n",
       "    .dataframe tbody tr th {\n",
       "        vertical-align: top;\n",
       "    }\n",
       "\n",
       "    .dataframe thead th {\n",
       "        text-align: right;\n",
       "    }\n",
       "</style>\n",
       "<table border=\"1\" class=\"dataframe\">\n",
       "  <thead>\n",
       "    <tr style=\"text-align: right;\">\n",
       "      <th></th>\n",
       "      <th>user_id</th>\n",
       "      <th>track</th>\n",
       "      <th>artist</th>\n",
       "      <th>genre</th>\n",
       "      <th>city</th>\n",
       "      <th>time</th>\n",
       "      <th>day</th>\n",
       "    </tr>\n",
       "  </thead>\n",
       "  <tbody>\n",
       "    <tr>\n",
       "      <th>15</th>\n",
       "      <td>E3C5756F</td>\n",
       "      <td>NaN</td>\n",
       "      <td>NaN</td>\n",
       "      <td>NaN</td>\n",
       "      <td>Moscow</td>\n",
       "      <td>09:24:51</td>\n",
       "      <td>Monday</td>\n",
       "    </tr>\n",
       "    <tr>\n",
       "      <th>35</th>\n",
       "      <td>A8AE9169</td>\n",
       "      <td>NaN</td>\n",
       "      <td>NaN</td>\n",
       "      <td>NaN</td>\n",
       "      <td>Moscow</td>\n",
       "      <td>08:56:10</td>\n",
       "      <td>Monday</td>\n",
       "    </tr>\n",
       "    <tr>\n",
       "      <th>54</th>\n",
       "      <td>3FA9A6A8</td>\n",
       "      <td>Inside Out</td>\n",
       "      <td>NaN</td>\n",
       "      <td>NaN</td>\n",
       "      <td>Moscow</td>\n",
       "      <td>10:00:41</td>\n",
       "      <td>Friday</td>\n",
       "    </tr>\n",
       "    <tr>\n",
       "      <th>161</th>\n",
       "      <td>364C85C0</td>\n",
       "      <td>NaN</td>\n",
       "      <td>NaN</td>\n",
       "      <td>NaN</td>\n",
       "      <td>Moscow</td>\n",
       "      <td>20:06:58</td>\n",
       "      <td>Monday</td>\n",
       "    </tr>\n",
       "    <tr>\n",
       "      <th>182</th>\n",
       "      <td>4AFB623B</td>\n",
       "      <td>My Name Is Love</td>\n",
       "      <td>NaN</td>\n",
       "      <td>NaN</td>\n",
       "      <td>Moscow</td>\n",
       "      <td>20:23:47</td>\n",
       "      <td>Wednesday</td>\n",
       "    </tr>\n",
       "    <tr>\n",
       "      <th>...</th>\n",
       "      <td>...</td>\n",
       "      <td>...</td>\n",
       "      <td>...</td>\n",
       "      <td>...</td>\n",
       "      <td>...</td>\n",
       "      <td>...</td>\n",
       "      <td>...</td>\n",
       "    </tr>\n",
       "    <tr>\n",
       "      <th>64792</th>\n",
       "      <td>7D9627FD</td>\n",
       "      <td>NaN</td>\n",
       "      <td>NaN</td>\n",
       "      <td>NaN</td>\n",
       "      <td>Moscow</td>\n",
       "      <td>08:57:15</td>\n",
       "      <td>Monday</td>\n",
       "    </tr>\n",
       "    <tr>\n",
       "      <th>64837</th>\n",
       "      <td>6E12D163</td>\n",
       "      <td>Fantasy Boy</td>\n",
       "      <td>NEW BACCARA</td>\n",
       "      <td>NaN</td>\n",
       "      <td>Moscow</td>\n",
       "      <td>20:51:44</td>\n",
       "      <td>Friday</td>\n",
       "    </tr>\n",
       "    <tr>\n",
       "      <th>64901</th>\n",
       "      <td>90B5E5A2</td>\n",
       "      <td>Hearts &amp; Silence</td>\n",
       "      <td>Myon x Late Night Alumni</td>\n",
       "      <td>NaN</td>\n",
       "      <td>Moscow</td>\n",
       "      <td>09:23:42</td>\n",
       "      <td>Friday</td>\n",
       "    </tr>\n",
       "    <tr>\n",
       "      <th>64930</th>\n",
       "      <td>A8AE9169</td>\n",
       "      <td>NaN</td>\n",
       "      <td>NaN</td>\n",
       "      <td>NaN</td>\n",
       "      <td>Moscow</td>\n",
       "      <td>08:54:17</td>\n",
       "      <td>Friday</td>\n",
       "    </tr>\n",
       "    <tr>\n",
       "      <th>64950</th>\n",
       "      <td>414F229D</td>\n",
       "      <td>NaN</td>\n",
       "      <td>NaN</td>\n",
       "      <td>NaN</td>\n",
       "      <td>Moscow</td>\n",
       "      <td>14:41:26</td>\n",
       "      <td>Monday</td>\n",
       "    </tr>\n",
       "  </tbody>\n",
       "</table>\n",
       "<p>1198 rows × 7 columns</p>\n",
       "</div>"
      ],
      "text/plain": [
       "        user_id             track                    artist genre    city  \\\n",
       "15     E3C5756F               NaN                       NaN   NaN  Moscow   \n",
       "35     A8AE9169               NaN                       NaN   NaN  Moscow   \n",
       "54     3FA9A6A8        Inside Out                       NaN   NaN  Moscow   \n",
       "161    364C85C0               NaN                       NaN   NaN  Moscow   \n",
       "182    4AFB623B   My Name Is Love                       NaN   NaN  Moscow   \n",
       "...         ...               ...                       ...   ...     ...   \n",
       "64792  7D9627FD               NaN                       NaN   NaN  Moscow   \n",
       "64837  6E12D163       Fantasy Boy               NEW BACCARA   NaN  Moscow   \n",
       "64901  90B5E5A2  Hearts & Silence  Myon x Late Night Alumni   NaN  Moscow   \n",
       "64930  A8AE9169               NaN                       NaN   NaN  Moscow   \n",
       "64950  414F229D               NaN                       NaN   NaN  Moscow   \n",
       "\n",
       "           time        day  \n",
       "15     09:24:51     Monday  \n",
       "35     08:56:10     Monday  \n",
       "54     10:00:41     Friday  \n",
       "161    20:06:58     Monday  \n",
       "182    20:23:47  Wednesday  \n",
       "...         ...        ...  \n",
       "64792  08:57:15     Monday  \n",
       "64837  20:51:44     Friday  \n",
       "64901  09:23:42     Friday  \n",
       "64930  08:54:17     Friday  \n",
       "64950  14:41:26     Monday  \n",
       "\n",
       "[1198 rows x 7 columns]"
      ]
     },
     "execution_count": 24,
     "metadata": {},
     "output_type": "execute_result"
    }
   ],
   "source": [
    "df[df.genre.isna()]"
   ]
  },
  {
   "cell_type": "code",
   "execution_count": 25,
   "metadata": {
    "deletable": false,
    "id": "KplB5qWs_Zct"
   },
   "outputs": [
    {
     "data": {
      "text/plain": [
       "user_id    0\n",
       "track      0\n",
       "artist     0\n",
       "genre      0\n",
       "city       0\n",
       "time       0\n",
       "day        0\n",
       "dtype: int64"
      ]
     },
     "execution_count": 25,
     "metadata": {},
     "output_type": "execute_result"
    }
   ],
   "source": [
    "columns_to_replace = ['track', 'artist', 'genre']\n",
    "for value in columns_to_replace:\n",
    "    df = df.fillna('unknown') #перебор названий столбцов в цикле и замена пропущенных значений на 'unknown'\n",
    "    \n",
    "df.isna().sum() # подсчёт пропусков"
   ]
  },
  {
   "cell_type": "markdown",
   "metadata": {
    "id": "BWKRtBJ3_Zct",
    "tags": [
     "start_task"
    ]
   },
   "source": [
    "### Дубликаты"
   ]
  },
  {
   "cell_type": "code",
   "execution_count": 26,
   "metadata": {
    "deletable": false,
    "id": "36eES_S0_Zct"
   },
   "outputs": [
    {
     "data": {
      "text/plain": [
       "3826"
      ]
     },
     "execution_count": 26,
     "metadata": {},
     "output_type": "execute_result"
    }
   ],
   "source": [
    "df.duplicated().sum() # подсчёт явных дубликатов"
   ]
  },
  {
   "cell_type": "code",
   "execution_count": 27,
   "metadata": {
    "deletable": false,
    "id": "exFHq6tt_Zct"
   },
   "outputs": [
    {
     "data": {
      "text/plain": [
       "0"
      ]
     },
     "execution_count": 27,
     "metadata": {},
     "output_type": "execute_result"
    }
   ],
   "source": [
    "df = df.drop_duplicates().reset_index(drop=True) # удаление явных дубликатов\n",
    "df.duplicated().sum() # проверка на отсутствие дубликатов"
   ]
  },
  {
   "cell_type": "code",
   "execution_count": 28,
   "metadata": {
    "deletable": false,
    "id": "JIUcqzZN_Zct"
   },
   "outputs": [
    {
     "data": {
      "text/plain": [
       "array(['acid', 'acoustic', 'action', 'adult', 'africa', 'afrikaans',\n",
       "       'alternative', 'alternativepunk', 'ambient', 'americana',\n",
       "       'animated', 'anime', 'arabesk', 'arabic', 'arena',\n",
       "       'argentinetango', 'art', 'audiobook', 'author', 'avantgarde',\n",
       "       'axé', 'baile', 'balkan', 'beats', 'bigroom', 'black', 'bluegrass',\n",
       "       'blues', 'bollywood', 'bossa', 'brazilian', 'breakbeat', 'breaks',\n",
       "       'broadway', 'cantautori', 'cantopop', 'canzone', 'caribbean',\n",
       "       'caucasian', 'celtic', 'chamber', 'chanson', 'children', 'chill',\n",
       "       'chinese', 'choral', 'christian', 'christmas', 'classical',\n",
       "       'classicmetal', 'club', 'colombian', 'comedy', 'conjazz',\n",
       "       'contemporary', 'country', 'cuban', 'dance', 'dancehall',\n",
       "       'dancepop', 'dark', 'death', 'deep', 'deutschrock', 'deutschspr',\n",
       "       'dirty', 'disco', 'dnb', 'documentary', 'downbeat', 'downtempo',\n",
       "       'drum', 'dub', 'dubstep', 'eastern', 'easy', 'electronic',\n",
       "       'electropop', 'emo', 'entehno', 'epicmetal', 'estrada', 'ethnic',\n",
       "       'eurofolk', 'european', 'experimental', 'extrememetal', 'fado',\n",
       "       'fairytail', 'film', 'fitness', 'flamenco', 'folk', 'folklore',\n",
       "       'folkmetal', 'folkrock', 'folktronica', 'forró', 'frankreich',\n",
       "       'französisch', 'french', 'funk', 'future', 'gangsta', 'garage',\n",
       "       'german', 'ghazal', 'gitarre', 'glitch', 'gospel', 'gothic',\n",
       "       'grime', 'grunge', 'gypsy', 'handsup', \"hard'n'heavy\", 'hardcore',\n",
       "       'hardstyle', 'hardtechno', 'hip', 'hip-hop', 'hiphop',\n",
       "       'historisch', 'holiday', 'hop', 'horror', 'house', 'hymn', 'idm',\n",
       "       'independent', 'indian', 'indie', 'indipop', 'industrial',\n",
       "       'inspirational', 'instrumental', 'international', 'irish', 'jam',\n",
       "       'japanese', 'jazz', 'jewish', 'jpop', 'jungle', 'k-pop',\n",
       "       'karadeniz', 'karaoke', 'kayokyoku', 'korean', 'laiko', 'latin',\n",
       "       'latino', 'leftfield', 'local', 'lounge', 'loungeelectronic',\n",
       "       'lovers', 'malaysian', 'mandopop', 'marschmusik', 'meditative',\n",
       "       'mediterranean', 'melodic', 'metal', 'metalcore', 'mexican',\n",
       "       'middle', 'minimal', 'miscellaneous', 'modern', 'mood', 'mpb',\n",
       "       'muslim', 'native', 'neoklassik', 'neue', 'new', 'newage',\n",
       "       'newwave', 'nu', 'nujazz', 'numetal', 'oceania', 'old', 'opera',\n",
       "       'orchestral', 'other', 'piano', 'podcasts', 'pop', 'popdance',\n",
       "       'popelectronic', 'popeurodance', 'poprussian', 'post',\n",
       "       'posthardcore', 'postrock', 'power', 'progmetal', 'progressive',\n",
       "       'psychedelic', 'punjabi', 'punk', 'quebecois', 'ragga', 'ram',\n",
       "       'rancheras', 'rap', 'rave', 'reggae', 'reggaeton', 'regional',\n",
       "       'relax', 'religious', 'retro', 'rhythm', 'rnb', 'rnr', 'rock',\n",
       "       'rockabilly', 'rockalternative', 'rockindie', 'rockother',\n",
       "       'romance', 'roots', 'ruspop', 'rusrap', 'rusrock', 'russian',\n",
       "       'salsa', 'samba', 'scenic', 'schlager', 'self', 'sertanejo',\n",
       "       'shanson', 'shoegazing', 'showtunes', 'singer', 'ska', 'skarock',\n",
       "       'slow', 'smooth', 'soft', 'soul', 'soulful', 'sound', 'soundtrack',\n",
       "       'southern', 'specialty', 'speech', 'spiritual', 'sport',\n",
       "       'stonerrock', 'surf', 'swing', 'synthpop', 'synthrock',\n",
       "       'sängerportrait', 'tango', 'tanzorchester', 'taraftar', 'tatar',\n",
       "       'tech', 'techno', 'teen', 'thrash', 'top', 'traditional',\n",
       "       'tradjazz', 'trance', 'tribal', 'trip', 'triphop', 'tropical',\n",
       "       'türk', 'türkçe', 'ukrrock', 'unknown', 'urban', 'uzbek',\n",
       "       'variété', 'vi', 'videogame', 'vocal', 'western', 'world',\n",
       "       'worldbeat', 'ïîï', 'электроника'], dtype=object)"
      ]
     },
     "execution_count": 28,
     "metadata": {},
     "output_type": "execute_result"
    }
   ],
   "source": [
    "genre_unique = df['genre'].sort_values() # отсортируем для наглядной оценки\n",
    "genre_unique = genre_unique.unique()\n",
    "genre_unique # промотр уникальных названий жанров"
   ]
  },
  {
   "cell_type": "code",
   "execution_count": 29,
   "metadata": {
    "deletable": false,
    "id": "ErNDkmns_Zct"
   },
   "outputs": [],
   "source": [
    "genre_duplicates = ['hip', 'hop', 'hip-hop']\n",
    "df = df.replace(genre_duplicates, 'hiphop') # устранение неявных дубликатов"
   ]
  },
  {
   "cell_type": "code",
   "execution_count": 30,
   "metadata": {
    "deletable": false,
    "id": "wvixALnFG15m"
   },
   "outputs": [
    {
     "data": {
      "text/plain": [
       "array(['acid', 'acoustic', 'action', 'adult', 'africa', 'afrikaans',\n",
       "       'alternative', 'alternativepunk', 'ambient', 'americana',\n",
       "       'animated', 'anime', 'arabesk', 'arabic', 'arena',\n",
       "       'argentinetango', 'art', 'audiobook', 'author', 'avantgarde',\n",
       "       'axé', 'baile', 'balkan', 'beats', 'bigroom', 'black', 'bluegrass',\n",
       "       'blues', 'bollywood', 'bossa', 'brazilian', 'breakbeat', 'breaks',\n",
       "       'broadway', 'cantautori', 'cantopop', 'canzone', 'caribbean',\n",
       "       'caucasian', 'celtic', 'chamber', 'chanson', 'children', 'chill',\n",
       "       'chinese', 'choral', 'christian', 'christmas', 'classical',\n",
       "       'classicmetal', 'club', 'colombian', 'comedy', 'conjazz',\n",
       "       'contemporary', 'country', 'cuban', 'dance', 'dancehall',\n",
       "       'dancepop', 'dark', 'death', 'deep', 'deutschrock', 'deutschspr',\n",
       "       'dirty', 'disco', 'dnb', 'documentary', 'downbeat', 'downtempo',\n",
       "       'drum', 'dub', 'dubstep', 'eastern', 'easy', 'electronic',\n",
       "       'electropop', 'emo', 'entehno', 'epicmetal', 'estrada', 'ethnic',\n",
       "       'eurofolk', 'european', 'experimental', 'extrememetal', 'fado',\n",
       "       'fairytail', 'film', 'fitness', 'flamenco', 'folk', 'folklore',\n",
       "       'folkmetal', 'folkrock', 'folktronica', 'forró', 'frankreich',\n",
       "       'französisch', 'french', 'funk', 'future', 'gangsta', 'garage',\n",
       "       'german', 'ghazal', 'gitarre', 'glitch', 'gospel', 'gothic',\n",
       "       'grime', 'grunge', 'gypsy', 'handsup', \"hard'n'heavy\", 'hardcore',\n",
       "       'hardstyle', 'hardtechno', 'hip', 'hip-hop', 'hiphop',\n",
       "       'historisch', 'holiday', 'hop', 'horror', 'house', 'hymn', 'idm',\n",
       "       'independent', 'indian', 'indie', 'indipop', 'industrial',\n",
       "       'inspirational', 'instrumental', 'international', 'irish', 'jam',\n",
       "       'japanese', 'jazz', 'jewish', 'jpop', 'jungle', 'k-pop',\n",
       "       'karadeniz', 'karaoke', 'kayokyoku', 'korean', 'laiko', 'latin',\n",
       "       'latino', 'leftfield', 'local', 'lounge', 'loungeelectronic',\n",
       "       'lovers', 'malaysian', 'mandopop', 'marschmusik', 'meditative',\n",
       "       'mediterranean', 'melodic', 'metal', 'metalcore', 'mexican',\n",
       "       'middle', 'minimal', 'miscellaneous', 'modern', 'mood', 'mpb',\n",
       "       'muslim', 'native', 'neoklassik', 'neue', 'new', 'newage',\n",
       "       'newwave', 'nu', 'nujazz', 'numetal', 'oceania', 'old', 'opera',\n",
       "       'orchestral', 'other', 'piano', 'podcasts', 'pop', 'popdance',\n",
       "       'popelectronic', 'popeurodance', 'poprussian', 'post',\n",
       "       'posthardcore', 'postrock', 'power', 'progmetal', 'progressive',\n",
       "       'psychedelic', 'punjabi', 'punk', 'quebecois', 'ragga', 'ram',\n",
       "       'rancheras', 'rap', 'rave', 'reggae', 'reggaeton', 'regional',\n",
       "       'relax', 'religious', 'retro', 'rhythm', 'rnb', 'rnr', 'rock',\n",
       "       'rockabilly', 'rockalternative', 'rockindie', 'rockother',\n",
       "       'romance', 'roots', 'ruspop', 'rusrap', 'rusrock', 'russian',\n",
       "       'salsa', 'samba', 'scenic', 'schlager', 'self', 'sertanejo',\n",
       "       'shanson', 'shoegazing', 'showtunes', 'singer', 'ska', 'skarock',\n",
       "       'slow', 'smooth', 'soft', 'soul', 'soulful', 'sound', 'soundtrack',\n",
       "       'southern', 'specialty', 'speech', 'spiritual', 'sport',\n",
       "       'stonerrock', 'surf', 'swing', 'synthpop', 'synthrock',\n",
       "       'sängerportrait', 'tango', 'tanzorchester', 'taraftar', 'tatar',\n",
       "       'tech', 'techno', 'teen', 'thrash', 'top', 'traditional',\n",
       "       'tradjazz', 'trance', 'tribal', 'trip', 'triphop', 'tropical',\n",
       "       'türk', 'türkçe', 'ukrrock', 'unknown', 'urban', 'uzbek',\n",
       "       'variété', 'vi', 'videogame', 'vocal', 'western', 'world',\n",
       "       'worldbeat', 'ïîï', 'электроника'], dtype=object)"
      ]
     },
     "execution_count": 30,
     "metadata": {},
     "output_type": "execute_result"
    }
   ],
   "source": [
    "genre_unique"
   ]
  },
  {
   "cell_type": "markdown",
   "metadata": {
    "deletable": false,
    "editable": false,
    "id": "jz6a9-7HQUDd"
   },
   "source": [
    "**Выводы**\n",
    "\n",
    "Предобработка обнаружила три проблемы в данных:\n",
    "\n",
    "- нарушения в стиле заголовков,\n",
    "- пропущенные значения,\n",
    "- дубликаты — явные и неявные.\n",
    "\n",
    "Вы исправили заголовки, чтобы упростить работу с таблицей. Без дубликатов исследование станет более точным.\n",
    "\n",
    "Пропущенные значения вы заменили на `'unknown'`. Ещё предстоит увидеть, не повредят ли исследованию пропуски в колонке `genre`.\n",
    "\n",
    "Теперь можно перейти к проверке гипотез. "
   ]
  },
  {
   "cell_type": "markdown",
   "metadata": {
    "deletable": false,
    "editable": false,
    "id": "WttZHXH0SqKk"
   },
   "source": [
    "## Проверка гипотез"
   ]
  },
  {
   "cell_type": "markdown",
   "metadata": {
    "deletable": false,
    "editable": false,
    "id": "Im936VVi_Zcu"
   },
   "source": [
    "### Сравнение поведения пользователей двух столиц"
   ]
  },
  {
   "cell_type": "markdown",
   "metadata": {
    "id": "nwt_MuaL_Zcu"
   },
   "source": [
    "Первая гипотеза утверждает, что пользователи по-разному слушают музыку в Москве и Санкт-Петербурге. Проверим это предположение по данным о трёх днях недели — понедельнике, среде и пятнице. Для этого:\n",
    "\n",
    "* Разделим пользователей Москвы и Санкт-Петербурга.\n",
    "* Сравним, сколько треков послушала каждая группа пользователей в понедельник, среду и пятницу.\n"
   ]
  },
  {
   "cell_type": "code",
   "execution_count": 69,
   "metadata": {
    "deletable": false,
    "id": "0_Qs96oh_Zcu"
   },
   "outputs": [
    {
     "data": {
      "image/png": "[encoded data removed]",
      "text/plain": [
       "<Figure size 700x400 with 1 Axes>"
      ]
     },
     "metadata": {},
     "output_type": "display_data"
    }
   ],
   "source": [
    "activity_cities = df.groupby('city')['time'].count()\n",
    "\n",
    "# создадим функцию для визуализации наших расчётов\n",
    "def cities_visualisation(index, values, xlabel, ylabel, title):\n",
    "    fig, ax = plt.subplots(figsize = (7, 4))\n",
    "    ax.bar(index, values)\n",
    "    ax.set_xlabel(xlabel)\n",
    "    ax.set_ylabel(ylabel)\n",
    "    ax.set_title(title)\n",
    "    return plt.show();\n",
    "\n",
    "cities_visualisation(activity_cities.index, \n",
    "                     activity_cities.values, \n",
    "                     'cities', \n",
    "                     'summary', \n",
    "                     'Сравнение длительности прослушенных треков')"
   ]
  },
  {
   "cell_type": "markdown",
   "metadata": {
    "id": "dzli3w8o_Zcu",
    "tags": [
     "start_task"
    ]
   },
   "source": [
    "В Москве прослушиваний **больше**, чем в Петербурге.\n",
    "\n",
    "Тем не менее, мы не можем окончательно утверждать, что в Москве люди слушают музыку чаще, основываясь лишь на этом графике и этих данных, так как людей в Москве больше, а значит и в совокупности прослушанных треков будет больше.\n",
    "\n",
    "Сформируем другую группу, объединив дни недели и время прослушивания."
   ]
  },
  {
   "cell_type": "code",
   "execution_count": 71,
   "metadata": {
    "deletable": false,
    "id": "uZMKjiJz_Zcu"
   },
   "outputs": [
    {
     "data": {
      "image/png": "[encoded data removed]",
      "text/plain": [
       "<Figure size 700x400 with 1 Axes>"
      ]
     },
     "metadata": {},
     "output_type": "display_data"
    }
   ],
   "source": [
    "# Подсчёт прослушиваний в каждый из трёх дней\n",
    "days_cities = df.groupby('day')['time'].count()\n",
    "\n",
    "cities_visualisation(days_cities.index, \n",
    "                     days_cities.values, \n",
    "                     'days', \n",
    "                     'summary', \n",
    "                     'Сравнение длительности прослушенных треков по дням недели')\n"
   ]
  },
  {
   "cell_type": "markdown",
   "metadata": {
    "id": "cC2tNrlL_Zcu"
   },
   "source": [
    "В среднем пользователи из двух городов менее активны по средам. Но картина может измениться, если рассмотреть каждый город в отдельности.\n",
    "\n",
    "Теперь подсчитаем времяп прослушивания для каждого города и каждому дню недели."
   ]
  },
  {
   "cell_type": "code",
   "execution_count": 278,
   "metadata": {},
   "outputs": [
    {
     "data": {
      "image/png": "[encoded data removed]",
      "text/plain": [
       "<Figure size 640x480 with 1 Axes>"
      ]
     },
     "metadata": {},
     "output_type": "display_data"
    }
   ],
   "source": [
    "total = pd.pivot_table(df, index=['city', 'day'], values='time', aggfunc='count')\n",
    "total.plot(kind='barh', width=1, edgecolor=\"white\", linewidth=0.7,\n",
    "           title='Длительность прослушивания по дням в каждом городе');"
   ]
  },
  {
   "cell_type": "markdown",
   "metadata": {
    "deletable": false,
    "editable": false,
    "id": "-EgPIHYu_Zcu"
   },
   "source": [
    "**Выводы**\n",
    "\n",
    "Данные показывают разницу поведения пользователей:\n",
    "\n",
    "- В Москве пик прослушиваний приходится на понедельник и пятницу, а в среду заметен спад.\n",
    "- В Петербурге, наоборот, больше слушают музыку по средам. Активность в понедельник и пятницу здесь почти в равной мере уступает среде.\n",
    "\n",
    "Значит, данные говорят в пользу первой гипотезы."
   ]
  },
  {
   "cell_type": "markdown",
   "metadata": {
    "deletable": false,
    "editable": false,
    "id": "atZAxtq4_Zcu"
   },
   "source": [
    "### Музыка в начале и в конце недели"
   ]
  },
  {
   "cell_type": "markdown",
   "metadata": {
    "deletable": false,
    "editable": false,
    "id": "eXrQqXFH_Zcu"
   },
   "source": [
    "Согласно второй гипотезе, утром в понедельник в Москве преобладают одни жанры, а в Петербурге — другие. Так же и вечером пятницы преобладают разные жанры — в зависимости от города."
   ]
  },
  {
   "cell_type": "markdown",
   "metadata": {
    "deletable": false,
    "editable": false,
    "id": "S8UcW6Hw_Zcu",
    "tags": [
     "start_task"
    ]
   },
   "source": [
    "**Задание 23**\n",
    "\n",
    "Сохраните таблицы с данными в две переменные:\n",
    "* по Москве — в `moscow_general`;\n",
    "* по Санкт-Петербургу — в `spb_general`."
   ]
  },
  {
   "cell_type": "code",
   "execution_count": 28,
   "metadata": {
    "deletable": false,
    "id": "qeaFfM_P_Zcu"
   },
   "outputs": [],
   "source": [
    "moscow_general = df[df['city'] == 'Moscow']# получение таблицы moscow_general из тех строк таблицы df, \n",
    "# для которых значение в столбце 'city' равно 'Moscow'\n"
   ]
  },
  {
   "cell_type": "code",
   "execution_count": 29,
   "metadata": {
    "deletable": false,
    "id": "ORaVRKto_Zcu"
   },
   "outputs": [],
   "source": [
    "spb_general = df[df['city'] == 'Saint-Petersburg']# получение таблицы spb_general из тех строк таблицы df,\n",
    "# для которых значение в столбце 'city' равно 'Saint-Petersburg'\n"
   ]
  },
  {
   "cell_type": "markdown",
   "metadata": {
    "deletable": false,
    "editable": false,
    "id": "MEJV-CX2_Zcu",
    "tags": [
     "start_task"
    ]
   },
   "source": [
    "**Задание 24**\n",
    "\n",
    "Создайте функцию `genre_weekday()` с четырьмя параметрами:\n",
    "* таблица (датафрейм) с данными,\n",
    "* день недели,\n",
    "* начальная временная метка в формате 'hh:mm', \n",
    "* последняя временная метка в формате 'hh:mm'.\n",
    "\n",
    "Функция должна вернуть информацию о топ-10 жанров тех треков, которые прослушивали в указанный день, в промежутке между двумя отметками времени."
   ]
  },
  {
   "cell_type": "code",
   "execution_count": 30,
   "metadata": {
    "deletable": false,
    "id": "laJT9BYl_Zcu"
   },
   "outputs": [],
   "source": [
    "\n",
    "# Объявление функции genre_weekday() с параметрами table, day, time1, time2,\n",
    "# которая возвращает информацию о самых популярных жанрах в указанный день в\n",
    "# заданное время:\n",
    "# 1) в переменную genre_df сохраняются те строки переданного датафрейма table, для\n",
    "#    которых одновременно:\n",
    "#    - значение в столбце day равно значению аргумента day\n",
    "#    - значение в столбце time больше значения аргумента time1\n",
    "#    - значение в столбце time меньше значения аргумента time2\n",
    "#    Используйте последовательную фильтрацию с помощью логической индексации.\n",
    "# 2) сгруппировать датафрейм genre_df по столбцу genre, взять один из его\n",
    "#    столбцов и посчитать методом count() количество записей для каждого из\n",
    "#    присутствующих жанров, получившийся Series записать в переменную\n",
    "#    genre_df_count\n",
    "# 3) отсортировать genre_df_count по убыванию встречаемости и сохранить\n",
    "#    в переменную genre_df_sorted\n",
    "# 4) вернуть Series из 10 первых значений genre_df_sorted, это будут топ-10\n",
    "#    популярных жанров (в указанный день, в заданное время)\n",
    "\n",
    "def genre_weekday(df, day, time1, time2):\n",
    "    # последовательная фильтрация\n",
    "    # оставляем в genre_df только те строки df, у которых день равен day\n",
    "    genre_df = df[df['day'] == day]# ваш код здесь\n",
    "    # оставляем в genre_df только те строки genre_df, у которых время меньше time2\n",
    "    genre_df = genre_df[genre_df['time'] > time1]# ваш код здесь\n",
    "    # оставляем в genre_df только те строки genre_df, у которых время больше time1\n",
    "    genre_df = genre_df[genre_df['time'] < time2]# ваш код здесь\n",
    "    # сгруппируем отфильтрованный датафрейм по столбцу с названиями жанров, возьмём столбец genre и посчитаем кол-во строк для каждого жанра методом count()\n",
    "    genre_df_grouped = genre_df.groupby('genre')['genre'].count()# ваш код здесь\n",
    "    # отсортируем результат по убыванию (чтобы в начале Series оказались самые популярные жанры)\n",
    "    genre_df_sorted = genre_df_grouped.sort_values(ascending=False)# ваш код здесь\n",
    "    # вернём Series с 10 самыми популярными жанрами в указанный отрезок времени заданного дня\n",
    "    return genre_df_sorted[:10]"
   ]
  },
  {
   "cell_type": "markdown",
   "metadata": {
    "deletable": false,
    "editable": false,
    "id": "la2s2_PF_Zcu",
    "tags": [
     "start_task"
    ]
   },
   "source": [
    "**Задание 25**\n",
    "\n",
    "\n",
    "Cравните результаты функции `genre_weekday()` для Москвы и Санкт-Петербурга в понедельник утром (с 7:00 до 11:00) и в пятницу вечером (с 17:00 до 23:00):"
   ]
  },
  {
   "cell_type": "code",
   "execution_count": 31,
   "metadata": {
    "deletable": false,
    "id": "yz7itPUQ_Zcu"
   },
   "outputs": [
    {
     "data": {
      "text/plain": [
       "genre\n",
       "pop            781\n",
       "dance          549\n",
       "electronic     480\n",
       "rock           474\n",
       "hiphop         286\n",
       "ruspop         186\n",
       "world          181\n",
       "rusrap         175\n",
       "alternative    164\n",
       "unknown        161\n",
       "Name: genre, dtype: int64"
      ]
     },
     "execution_count": 31,
     "metadata": {},
     "output_type": "execute_result"
    }
   ],
   "source": [
    "genre_weekday(moscow_general, 'Monday', '07:00', '11:00')\n",
    "# вызов функции для утра понедельника в Москве (вместо df — таблица moscow_general)\n",
    "# объекты, хранящие время, являются строками и сравниваются как строки\n",
    "# пример вызова: genre_weekday(moscow_general, 'Monday', '07:00', '11:00')"
   ]
  },
  {
   "cell_type": "code",
   "execution_count": 32,
   "metadata": {
    "deletable": false,
    "id": "kwUcHPdy_Zcu"
   },
   "outputs": [
    {
     "data": {
      "text/plain": [
       "genre\n",
       "pop            218\n",
       "dance          182\n",
       "rock           162\n",
       "electronic     147\n",
       "hiphop          80\n",
       "ruspop          64\n",
       "alternative     58\n",
       "rusrap          55\n",
       "jazz            44\n",
       "classical       40\n",
       "Name: genre, dtype: int64"
      ]
     },
     "execution_count": 32,
     "metadata": {},
     "output_type": "execute_result"
    }
   ],
   "source": [
    "genre_weekday(spb_general, 'Monday', '07:00', '11:00')# вызов функции для утра понедельника в Петербурге (вместо df — таблица spb_general)"
   ]
  },
  {
   "cell_type": "code",
   "execution_count": 33,
   "metadata": {
    "deletable": false,
    "id": "EzXVRE1o_Zcu"
   },
   "outputs": [
    {
     "data": {
      "text/plain": [
       "genre\n",
       "pop            713\n",
       "rock           517\n",
       "dance          495\n",
       "electronic     482\n",
       "hiphop         273\n",
       "world          208\n",
       "ruspop         170\n",
       "alternative    163\n",
       "classical      163\n",
       "rusrap         142\n",
       "Name: genre, dtype: int64"
      ]
     },
     "execution_count": 33,
     "metadata": {},
     "output_type": "execute_result"
    }
   ],
   "source": [
    "genre_weekday(moscow_general, 'Friday', '17:00', '23:00')# вызов функции для вечера пятницы в Москве"
   ]
  },
  {
   "cell_type": "code",
   "execution_count": 34,
   "metadata": {
    "deletable": false,
    "id": "JZaEKu5v_Zcu"
   },
   "outputs": [
    {
     "data": {
      "text/plain": [
       "genre\n",
       "pop            256\n",
       "electronic     216\n",
       "rock           216\n",
       "dance          210\n",
       "hiphop          97\n",
       "alternative     63\n",
       "jazz            61\n",
       "classical       60\n",
       "rusrap          59\n",
       "world           54\n",
       "Name: genre, dtype: int64"
      ]
     },
     "execution_count": 34,
     "metadata": {},
     "output_type": "execute_result"
    }
   ],
   "source": [
    "genre_weekday(spb_general, 'Friday', '17:00', '23:00')# вызов функции для вечера пятницы в Петербурге"
   ]
  },
  {
   "cell_type": "markdown",
   "metadata": {
    "deletable": false,
    "editable": false,
    "id": "wrCe4MNX_Zcu"
   },
   "source": [
    "**Выводы**\n",
    "\n",
    "Если сравнить топ-10 жанров в понедельник утром, можно сделать такие выводы:\n",
    "\n",
    "1. В Москве и Петербурге слушают похожую музыку. Единственное отличие — в московский рейтинг вошёл жанр “world”, а в петербургский — джаз и классика.\n",
    "\n",
    "2. В Москве пропущенных значений оказалось так много, что значение `'unknown'` заняло десятое место среди самых популярных жанров. Значит, пропущенные значения занимают существенную долю в данных и угрожают достоверности исследования.\n",
    "\n",
    "Вечер пятницы не меняет эту картину. Некоторые жанры поднимаются немного выше, другие спускаются, но в целом топ-10 остаётся тем же самым.\n",
    "\n",
    "Таким образом, вторая гипотеза подтвердилась лишь частично:\n",
    "* Пользователи слушают похожую музыку в начале недели и в конце.\n",
    "* Разница между Москвой и Петербургом не слишком выражена. В Москве чаще слушают русскую популярную музыку, в Петербурге — джаз.\n",
    "\n",
    "Однако пропуски в данных ставят под сомнение этот результат. В Москве их так много, что рейтинг топ-10 мог бы выглядеть иначе, если бы не утерянные  данные о жанрах."
   ]
  },
  {
   "cell_type": "markdown",
   "metadata": {
    "deletable": false,
    "editable": false,
    "id": "JolODAqr_Zcu"
   },
   "source": [
    "### Жанровые предпочтения в Москве и Петербурге\n",
    "\n",
    "Гипотеза: Петербург — столица рэпа, музыку этого жанра там слушают чаще, чем в Москве.  А Москва — город контрастов, в котором, тем не менее, преобладает поп-музыка."
   ]
  },
  {
   "cell_type": "markdown",
   "metadata": {
    "deletable": false,
    "editable": false,
    "id": "DlegSvaT_Zcu",
    "tags": [
     "start_task"
    ]
   },
   "source": [
    "**Задание 26**\n",
    "\n",
    "Сгруппируйте таблицу `moscow_general` по жанру и посчитайте прослушивания треков каждого жанра методом `count()`. Затем отсортируйте результат в порядке убывания и сохраните его в таблице `moscow_genres`."
   ]
  },
  {
   "cell_type": "code",
   "execution_count": 35,
   "metadata": {
    "deletable": false,
    "id": "r19lIPke_Zcu"
   },
   "outputs": [],
   "source": [
    "moscow_genres = moscow_general.groupby('genre')['genre'].count()\n",
    "moscow_genres = moscow_genres.sort_values(ascending=False)# одной строкой: группировка таблицы moscow_general по столбцу 'genre', \n",
    "# подсчёт числа значений 'genre' в этой группировке методом count(), \n",
    "# сортировка получившегося Series в порядке убывания и сохранение в moscow_genres"
   ]
  },
  {
   "cell_type": "markdown",
   "metadata": {
    "deletable": false,
    "editable": false,
    "id": "6kMuomxTiIr8",
    "tags": [
     "start_task"
    ]
   },
   "source": [
    "**Задание 27**\n",
    "\n",
    "Выведите на экран первые десять строк `moscow_genres`:"
   ]
  },
  {
   "cell_type": "code",
   "execution_count": 36,
   "metadata": {
    "deletable": false,
    "id": "WhCSooF8_Zcv"
   },
   "outputs": [
    {
     "name": "stdout",
     "output_type": "stream",
     "text": [
      "genre\n",
      "pop            5892\n",
      "dance          4435\n",
      "rock           3965\n",
      "electronic     3786\n",
      "hiphop         2096\n",
      "classical      1616\n",
      "world          1432\n",
      "alternative    1379\n",
      "ruspop         1372\n",
      "rusrap         1161\n",
      "Name: genre, dtype: int64\n"
     ]
    }
   ],
   "source": [
    "print(moscow_genres.head(10))# просмотр первых 10 строк moscow_genres"
   ]
  },
  {
   "cell_type": "markdown",
   "metadata": {
    "deletable": false,
    "editable": false,
    "id": "cnPG2vnN_Zcv",
    "tags": [
     "start_task"
    ]
   },
   "source": [
    "**Задание 28**\n",
    "\n",
    "\n",
    "Теперь повторите то же и для Петербурга.\n",
    "\n",
    "Сгруппируйте таблицу `spb_general` по жанру. Посчитайте прослушивания треков каждого жанра. Результат отсортируйте в порядке убывания и сохраните в таблице `spb_genres`:\n"
   ]
  },
  {
   "cell_type": "code",
   "execution_count": 37,
   "metadata": {
    "deletable": false,
    "id": "gluLIpE7_Zcv"
   },
   "outputs": [],
   "source": [
    "spb_genres = spb_general.groupby('genre')['genre'].count()\n",
    "spb_genres = spb_genres.sort_values(ascending=False)# одной строкой: группировка таблицы spb_general по столбцу 'genre', \n",
    "# подсчёт числа значений 'genre' в этой группировке методом count(), \n",
    "# сортировка получившегося Series в порядке убывания и сохранение в spb_genres"
   ]
  },
  {
   "cell_type": "markdown",
   "metadata": {
    "deletable": false,
    "editable": false,
    "id": "5Doha_ODgyQ8",
    "tags": [
     "start_task"
    ]
   },
   "source": [
    "**Задание 29**\n",
    "\n",
    "Выведите на экран первые десять строк `spb_genres`:"
   ]
  },
  {
   "cell_type": "code",
   "execution_count": 38,
   "metadata": {
    "deletable": false,
    "id": "uaGJHjVU_Zcv"
   },
   "outputs": [
    {
     "name": "stdout",
     "output_type": "stream",
     "text": [
      "genre\n",
      "pop            2431\n",
      "dance          1932\n",
      "rock           1879\n",
      "electronic     1736\n",
      "hiphop          960\n",
      "alternative     649\n",
      "classical       646\n",
      "rusrap          564\n",
      "ruspop          538\n",
      "world           515\n",
      "Name: genre, dtype: int64\n"
     ]
    }
   ],
   "source": [
    "print(spb_genres.head(10))# просмотр первых 10 строк spb_genres"
   ]
  },
  {
   "cell_type": "markdown",
   "metadata": {
    "deletable": false,
    "editable": false,
    "id": "RY51YJYu_Zcv"
   },
   "source": [
    "**Выводы**"
   ]
  },
  {
   "cell_type": "markdown",
   "metadata": {
    "deletable": false,
    "editable": false,
    "id": "nVhnJEm__Zcv"
   },
   "source": [
    "Гипотеза частично подтвердилась:\n",
    "* Поп-музыка — самый популярный жанр в Москве, как и предполагала гипотеза. Более того, в топ-10 жанров встречается близкий жанр — русская популярная музыка.\n",
    "* Вопреки ожиданиям, рэп одинаково популярен в Москве и Петербурге. \n"
   ]
  },
  {
   "cell_type": "markdown",
   "metadata": {
    "deletable": false,
    "editable": false,
    "id": "ykKQ0N65_Zcv"
   },
   "source": [
    "## Итоги исследования"
   ]
  },
  {
   "cell_type": "markdown",
   "metadata": {
    "deletable": false,
    "editable": false,
    "id": "tjUwbHb3_Zcv"
   },
   "source": [
    "Вы проверили три гипотезы и установили:\n",
    "\n",
    "1. День недели по-разному влияет на активность пользователей в Москве и Петербурге. \n",
    "\n",
    "Первая гипотеза полностью подтвердилась.\n",
    "\n",
    "2. Музыкальные предпочтения не сильно меняются в течение недели — будь то Москва или Петербург. Небольшие различия заметны в начале недели, по понедельникам:\n",
    "* в Москве слушают музыку жанра “world”,\n",
    "* в Петербурге — джаз и классику.\n",
    "\n",
    "Таким образом, вторая гипотеза подтвердилась лишь отчасти. Этот результат мог оказаться иным, если бы не пропуски в данных.\n",
    "\n",
    "3. Во вкусах пользователей Москвы и Петербурга больше общего чем различий. Вопреки ожиданиям, предпочтения жанров в Петербурге напоминают московские.\n",
    "\n",
    "Третья гипотеза не подтвердилась. Если различия в предпочтениях и существуют, на основной массе пользователей они незаметны.\n",
    "\n",
    "**На практике исследования содержат проверки статистических гипотез.**\n",
    "Из данных одного сервиса не всегда можно сделать вывод о всех жителях города.\n",
    "Проверки статистических гипотез покажут, насколько они достоверны, исходя из имеющихся данных. \n",
    "С методами проверок гипотез вы ещё познакомитесь в следующих темах."
   ]
  }
 ],
 "metadata": {
  "ExecuteTimeLog": [
   {
    "duration": 48,
    "start_time": "2022-07-17T05:35:58.576Z"
   },
   {
    "duration": 6,
    "start_time": "2022-07-17T05:36:09.155Z"
   },
   {
    "duration": 6,
    "start_time": "2022-07-17T05:36:26.442Z"
   },
   {
    "duration": 375,
    "start_time": "2022-07-17T05:36:31.156Z"
   },
   {
    "duration": 248,
    "start_time": "2022-07-17T05:36:35.508Z"
   },
   {
    "duration": 15,
    "start_time": "2022-07-17T05:36:39.571Z"
   },
   {
    "duration": 31,
    "start_time": "2022-07-17T05:36:44.291Z"
   },
   {
    "duration": 57,
    "start_time": "2022-07-17T05:39:54.130Z"
   },
   {
    "duration": 2,
    "start_time": "2022-07-17T05:40:17.999Z"
   },
   {
    "duration": 29,
    "start_time": "2022-07-17T05:40:31.404Z"
   },
   {
    "duration": 4,
    "start_time": "2022-07-17T05:40:35.081Z"
   },
   {
    "duration": 46,
    "start_time": "2022-07-17T05:51:57.870Z"
   },
   {
    "duration": 20,
    "start_time": "2022-07-17T05:52:38.885Z"
   },
   {
    "duration": 4,
    "start_time": "2022-07-17T05:53:00.010Z"
   },
   {
    "duration": 7,
    "start_time": "2022-07-17T05:53:03.472Z"
   },
   {
    "duration": 7,
    "start_time": "2022-07-17T05:53:15.833Z"
   },
   {
    "duration": 4,
    "start_time": "2022-07-17T05:53:24.664Z"
   },
   {
    "duration": 8,
    "start_time": "2022-07-17T05:53:56.308Z"
   },
   {
    "duration": 12,
    "start_time": "2022-07-17T05:54:02.539Z"
   },
   {
    "duration": 26,
    "start_time": "2022-07-17T05:54:15.537Z"
   },
   {
    "duration": 21,
    "start_time": "2022-07-17T05:55:01.421Z"
   },
   {
    "duration": 3,
    "start_time": "2022-07-17T05:55:24.369Z"
   },
   {
    "duration": 4,
    "start_time": "2022-07-17T05:55:32.326Z"
   },
   {
    "duration": 20,
    "start_time": "2022-07-17T05:55:40.378Z"
   },
   {
    "duration": 4,
    "start_time": "2022-07-17T05:55:43.491Z"
   },
   {
    "duration": 27,
    "start_time": "2022-07-17T05:55:55.501Z"
   },
   {
    "duration": 26,
    "start_time": "2022-07-17T05:56:59.544Z"
   },
   {
    "duration": 878,
    "start_time": "2022-07-17T06:01:39.813Z"
   },
   {
    "duration": 159,
    "start_time": "2022-07-17T06:01:55.903Z"
   },
   {
    "duration": 27,
    "start_time": "2022-07-17T06:02:47.913Z"
   },
   {
    "duration": 59,
    "start_time": "2022-07-17T06:05:50.810Z"
   },
   {
    "duration": 26,
    "start_time": "2022-07-17T06:05:54.782Z"
   },
   {
    "duration": 887,
    "start_time": "2022-07-17T06:12:31.444Z"
   },
   {
    "duration": 28,
    "start_time": "2022-07-17T06:14:52.084Z"
   },
   {
    "duration": 753,
    "start_time": "2022-07-17T06:15:26.009Z"
   },
   {
    "duration": 93,
    "start_time": "2022-07-17T06:15:42.476Z"
   },
   {
    "duration": 27,
    "start_time": "2022-07-17T06:15:46.205Z"
   },
   {
    "duration": 9,
    "start_time": "2022-07-17T06:16:30.798Z"
   },
   {
    "duration": 62,
    "start_time": "2022-07-17T06:16:33.748Z"
   },
   {
    "duration": 62,
    "start_time": "2022-07-17T06:16:42.096Z"
   },
   {
    "duration": 8,
    "start_time": "2022-07-17T06:16:45.953Z"
   },
   {
    "duration": 73,
    "start_time": "2022-07-17T06:16:48.107Z"
   },
   {
    "duration": 27,
    "start_time": "2022-07-17T06:16:59.294Z"
   },
   {
    "duration": 48,
    "start_time": "2022-07-17T06:17:00.991Z"
   },
   {
    "duration": 8,
    "start_time": "2022-07-17T06:17:24.421Z"
   },
   {
    "duration": 4,
    "start_time": "2022-07-17T06:17:34.749Z"
   },
   {
    "duration": 19,
    "start_time": "2022-07-17T06:18:09.749Z"
   },
   {
    "duration": 21,
    "start_time": "2022-07-17T06:18:15.335Z"
   },
   {
    "duration": 23,
    "start_time": "2022-07-17T06:18:34.501Z"
   },
   {
    "duration": 25,
    "start_time": "2022-07-17T06:18:47.923Z"
   },
   {
    "duration": 25,
    "start_time": "2022-07-17T06:20:38.415Z"
   },
   {
    "duration": 66,
    "start_time": "2022-07-17T06:20:50.080Z"
   },
   {
    "duration": 9,
    "start_time": "2022-07-17T06:21:14.223Z"
   },
   {
    "duration": 64,
    "start_time": "2022-07-17T06:21:30.756Z"
   },
   {
    "duration": 100,
    "start_time": "2022-07-17T06:22:09.198Z"
   },
   {
    "duration": 57,
    "start_time": "2022-07-17T06:22:15.715Z"
   },
   {
    "duration": 82,
    "start_time": "2022-07-17T06:22:43.159Z"
   },
   {
    "duration": 61,
    "start_time": "2022-07-17T06:22:48.003Z"
   },
   {
    "duration": 64,
    "start_time": "2022-07-17T06:23:30.882Z"
   },
   {
    "duration": 55,
    "start_time": "2022-07-17T06:23:35.112Z"
   },
   {
    "duration": 62,
    "start_time": "2022-07-17T06:23:44.435Z"
   },
   {
    "duration": 54,
    "start_time": "2022-07-17T06:23:47.763Z"
   },
   {
    "duration": 51,
    "start_time": "2022-07-17T06:24:35.159Z"
   },
   {
    "duration": 51,
    "start_time": "2022-07-17T06:24:45.999Z"
   },
   {
    "duration": 8,
    "start_time": "2022-07-17T06:25:11.393Z"
   },
   {
    "duration": 6,
    "start_time": "2022-07-17T06:25:24.552Z"
   },
   {
    "duration": 8,
    "start_time": "2022-07-17T06:26:46.060Z"
   },
   {
    "duration": 47,
    "start_time": "2022-07-17T06:28:59.261Z"
   },
   {
    "duration": 47,
    "start_time": "2022-07-17T06:29:23.450Z"
   },
   {
    "duration": 65,
    "start_time": "2022-07-17T06:30:33.463Z"
   },
   {
    "duration": 9,
    "start_time": "2022-07-17T06:30:57.895Z"
   },
   {
    "duration": 27,
    "start_time": "2022-07-17T06:31:43.216Z"
   },
   {
    "duration": 8,
    "start_time": "2022-07-17T06:32:15.492Z"
   },
   {
    "duration": 8,
    "start_time": "2022-07-17T06:32:29.116Z"
   },
   {
    "duration": 7,
    "start_time": "2022-07-17T06:32:44.820Z"
   },
   {
    "duration": 7,
    "start_time": "2022-07-17T06:33:21.281Z"
   },
   {
    "duration": 6,
    "start_time": "2022-07-17T06:33:27.261Z"
   },
   {
    "duration": 46,
    "start_time": "2022-07-17T06:33:42.015Z"
   },
   {
    "duration": 7,
    "start_time": "2022-07-17T06:33:46.718Z"
   },
   {
    "duration": 8,
    "start_time": "2022-07-17T06:33:53.779Z"
   },
   {
    "duration": 7,
    "start_time": "2022-07-17T06:34:10.277Z"
   },
   {
    "duration": 7,
    "start_time": "2022-07-17T06:34:14.377Z"
   },
   {
    "duration": 9,
    "start_time": "2022-07-17T06:34:40.923Z"
   },
   {
    "duration": 7,
    "start_time": "2022-07-17T06:34:47.744Z"
   },
   {
    "duration": 6,
    "start_time": "2022-07-17T06:36:45.925Z"
   },
   {
    "duration": 7,
    "start_time": "2022-07-17T06:37:00.865Z"
   },
   {
    "duration": 7,
    "start_time": "2022-07-17T06:37:32.122Z"
   },
   {
    "duration": 6,
    "start_time": "2022-07-17T06:37:56.507Z"
   },
   {
    "duration": 6,
    "start_time": "2022-07-17T06:38:34.490Z"
   },
   {
    "duration": 7,
    "start_time": "2022-07-17T06:38:54.861Z"
   },
   {
    "duration": 7,
    "start_time": "2022-07-17T06:39:15.614Z"
   },
   {
    "duration": 6,
    "start_time": "2022-07-17T06:39:28.210Z"
   },
   {
    "duration": 7,
    "start_time": "2022-07-17T06:39:35.282Z"
   },
   {
    "duration": 7,
    "start_time": "2022-07-17T06:39:42.829Z"
   },
   {
    "duration": 7,
    "start_time": "2022-07-17T06:39:54.265Z"
   },
   {
    "duration": 7,
    "start_time": "2022-07-17T06:47:34.003Z"
   },
   {
    "duration": 8,
    "start_time": "2022-07-17T06:47:51.528Z"
   },
   {
    "duration": 8,
    "start_time": "2022-07-17T06:49:32.815Z"
   },
   {
    "duration": 8,
    "start_time": "2022-07-17T06:51:44.693Z"
   },
   {
    "duration": 7,
    "start_time": "2022-07-17T06:51:51.835Z"
   },
   {
    "duration": 10,
    "start_time": "2022-07-17T06:52:03.621Z"
   },
   {
    "duration": 6,
    "start_time": "2022-07-17T06:53:18.782Z"
   },
   {
    "duration": 7,
    "start_time": "2022-07-17T06:53:53.320Z"
   },
   {
    "duration": 8,
    "start_time": "2022-07-17T06:54:00.110Z"
   },
   {
    "duration": 7,
    "start_time": "2022-07-17T06:54:08.576Z"
   },
   {
    "duration": 8,
    "start_time": "2022-07-17T06:55:22.863Z"
   },
   {
    "duration": 7,
    "start_time": "2022-07-17T06:55:30.611Z"
   },
   {
    "duration": 7,
    "start_time": "2022-07-17T07:00:30.624Z"
   },
   {
    "duration": 9,
    "start_time": "2022-07-17T07:05:43.167Z"
   },
   {
    "duration": 53,
    "start_time": "2022-07-17T07:06:58.001Z"
   },
   {
    "duration": 7,
    "start_time": "2022-07-17T07:10:07.671Z"
   },
   {
    "duration": 9,
    "start_time": "2022-07-17T07:25:09.500Z"
   },
   {
    "duration": 7,
    "start_time": "2022-07-17T07:32:03.593Z"
   },
   {
    "duration": 7,
    "start_time": "2022-07-17T07:36:32.202Z"
   },
   {
    "duration": 9,
    "start_time": "2022-07-17T07:38:48.550Z"
   },
   {
    "duration": 7,
    "start_time": "2022-07-17T07:39:00.566Z"
   },
   {
    "duration": 46,
    "start_time": "2022-07-17T07:40:06.798Z"
   },
   {
    "duration": 7,
    "start_time": "2022-07-17T07:40:46.798Z"
   },
   {
    "duration": 7,
    "start_time": "2022-07-17T07:42:48.969Z"
   },
   {
    "duration": 9,
    "start_time": "2022-07-17T08:03:15.952Z"
   },
   {
    "duration": 7,
    "start_time": "2022-07-17T08:03:27.765Z"
   },
   {
    "duration": 9,
    "start_time": "2022-07-17T08:03:29.901Z"
   },
   {
    "duration": 7,
    "start_time": "2022-07-17T08:03:30.252Z"
   },
   {
    "duration": 9,
    "start_time": "2022-07-17T08:03:30.923Z"
   },
   {
    "duration": 7,
    "start_time": "2022-07-17T08:03:31.958Z"
   },
   {
    "duration": 9,
    "start_time": "2022-07-17T08:03:32.492Z"
   },
   {
    "duration": 7,
    "start_time": "2022-07-17T08:03:33.359Z"
   },
   {
    "duration": 7,
    "start_time": "2022-07-17T08:03:34.604Z"
   },
   {
    "duration": 16,
    "start_time": "2022-07-17T08:03:35.617Z"
   },
   {
    "duration": 16,
    "start_time": "2022-07-17T08:03:37.706Z"
   },
   {
    "duration": 11,
    "start_time": "2022-07-17T08:03:38.802Z"
   },
   {
    "duration": 11,
    "start_time": "2022-07-17T08:03:41.019Z"
   },
   {
    "duration": 8,
    "start_time": "2022-07-17T08:14:34.609Z"
   },
   {
    "duration": 7,
    "start_time": "2022-07-17T08:14:50.887Z"
   },
   {
    "duration": 7,
    "start_time": "2022-07-17T08:15:14.799Z"
   },
   {
    "duration": 10,
    "start_time": "2022-07-17T08:19:47.947Z"
   },
   {
    "duration": 7,
    "start_time": "2022-07-17T09:20:03.419Z"
   },
   {
    "duration": 4,
    "start_time": "2022-07-17T09:20:10.824Z"
   },
   {
    "duration": 9,
    "start_time": "2022-07-17T09:20:13.073Z"
   },
   {
    "duration": 9,
    "start_time": "2022-07-17T09:20:13.753Z"
   },
   {
    "duration": 9,
    "start_time": "2022-07-17T09:20:14.200Z"
   },
   {
    "duration": 8,
    "start_time": "2022-07-17T09:20:14.498Z"
   },
   {
    "duration": 9,
    "start_time": "2022-07-17T09:20:14.746Z"
   },
   {
    "duration": 8,
    "start_time": "2022-07-17T09:20:14.998Z"
   },
   {
    "duration": 7,
    "start_time": "2022-07-17T09:35:24.488Z"
   },
   {
    "duration": 7,
    "start_time": "2022-07-17T09:35:29.535Z"
   },
   {
    "duration": 8,
    "start_time": "2022-07-17T09:37:33.723Z"
   },
   {
    "duration": 48,
    "start_time": "2022-07-17T15:31:49.684Z"
   },
   {
    "duration": 7,
    "start_time": "2022-07-17T15:36:03.461Z"
   },
   {
    "duration": 403,
    "start_time": "2023-08-13T08:22:19.203Z"
   },
   {
    "duration": 262,
    "start_time": "2023-08-13T08:22:19.608Z"
   },
   {
    "duration": 9,
    "start_time": "2023-08-13T08:22:19.873Z"
   },
   {
    "duration": 41,
    "start_time": "2023-08-13T08:22:19.885Z"
   },
   {
    "duration": 3,
    "start_time": "2023-08-13T08:22:19.928Z"
   },
   {
    "duration": 16,
    "start_time": "2023-08-13T08:22:19.933Z"
   },
   {
    "duration": 17,
    "start_time": "2023-08-13T08:22:19.960Z"
   },
   {
    "duration": 10,
    "start_time": "2023-08-13T08:22:19.979Z"
   },
   {
    "duration": 30,
    "start_time": "2023-08-13T08:22:19.991Z"
   },
   {
    "duration": 148,
    "start_time": "2023-08-13T08:22:20.025Z"
   },
   {
    "duration": 29,
    "start_time": "2023-08-13T08:22:20.175Z"
   },
   {
    "duration": 103,
    "start_time": "2023-08-13T08:22:20.206Z"
   },
   {
    "duration": 104,
    "start_time": "2023-08-13T08:22:20.311Z"
   },
   {
    "duration": 82,
    "start_time": "2023-08-13T08:22:20.417Z"
   },
   {
    "duration": 43,
    "start_time": "2023-08-13T08:22:20.501Z"
   },
   {
    "duration": 108,
    "start_time": "2023-08-13T08:22:20.559Z"
   },
   {
    "duration": 54,
    "start_time": "2023-08-13T08:22:20.669Z"
   },
   {
    "duration": 21,
    "start_time": "2023-08-13T08:22:20.726Z"
   },
   {
    "duration": 132,
    "start_time": "2023-08-13T08:22:20.750Z"
   },
   {
    "duration": 32,
    "start_time": "2023-08-13T08:22:20.885Z"
   },
   {
    "duration": 68,
    "start_time": "2023-08-13T08:22:20.919Z"
   },
   {
    "duration": 74,
    "start_time": "2023-08-13T08:22:20.989Z"
   },
   {
    "duration": 92,
    "start_time": "2023-08-13T08:22:21.065Z"
   },
   {
    "duration": 48,
    "start_time": "2023-08-13T08:22:21.158Z"
   },
   {
    "duration": 36,
    "start_time": "2023-08-13T08:22:21.209Z"
   },
   {
    "duration": 26,
    "start_time": "2023-08-13T08:22:21.247Z"
   },
   {
    "duration": 34,
    "start_time": "2023-08-13T08:22:21.275Z"
   },
   {
    "duration": 21,
    "start_time": "2023-08-13T08:22:21.314Z"
   },
   {
    "duration": 38,
    "start_time": "2023-08-13T08:22:21.337Z"
   },
   {
    "duration": 20,
    "start_time": "2023-08-13T08:22:21.377Z"
   },
   {
    "duration": 44,
    "start_time": "2023-08-13T08:22:21.399Z"
   },
   {
    "duration": 22,
    "start_time": "2023-08-13T08:22:21.445Z"
   },
   {
    "duration": 37,
    "start_time": "2023-08-13T08:22:21.469Z"
   },
   {
    "duration": 43,
    "start_time": "2023-08-13T08:22:21.509Z"
   },
   {
    "duration": 34,
    "start_time": "2023-08-13T08:22:21.555Z"
   },
   {
    "duration": 21,
    "start_time": "2023-08-13T08:22:21.591Z"
   },
   {
    "duration": 36,
    "start_time": "2023-08-13T08:22:21.614Z"
   },
   {
    "duration": 13,
    "start_time": "2023-08-13T08:22:21.652Z"
   },
   {
    "duration": 19,
    "start_time": "2023-08-13T08:26:44.299Z"
   },
   {
    "duration": 38,
    "start_time": "2023-08-13T08:27:02.038Z"
   },
   {
    "duration": 33,
    "start_time": "2023-08-13T08:27:35.231Z"
   },
   {
    "duration": 99,
    "start_time": "2023-08-13T08:27:38.518Z"
   },
   {
    "duration": 42,
    "start_time": "2023-08-13T08:27:41.033Z"
   },
   {
    "duration": 18,
    "start_time": "2023-08-13T08:27:47.043Z"
   },
   {
    "duration": 10,
    "start_time": "2023-08-13T08:28:06.300Z"
   }
  ],
  "celltoolbar": "Edit Metadata",
  "colab": {
   "collapsed_sections": [
    "E0vqbgi9ay0H",
    "VUC88oWjTJw2"
   ],
   "name": "automatization_template_upd4.ipynb",
   "provenance": []
  },
  "kernelspec": {
   "display_name": "Python 3 (ipykernel)",
   "language": "python",
   "name": "python3"
  },
  "language_info": {
   "codemirror_mode": {
    "name": "ipython",
    "version": 3
   },
   "file_extension": ".py",
   "mimetype": "text/x-python",
   "name": "python",
   "nbconvert_exporter": "python",
   "pygments_lexer": "ipython3",
   "version": "3.9.12"
  },
  "toc": {
   "base_numbering": 1,
   "nav_menu": {
    "height": "215px",
    "width": "403px"
   },
   "number_sections": true,
   "sideBar": true,
   "skip_h1_title": true,
   "title_cell": "Table of Contents",
   "title_sidebar": "Оглавление",
   "toc_cell": false,
   "toc_position": {
    "height": "calc(100% - 180px)",
    "left": "10px",
    "top": "150px",
    "width": "285.824px"
   },
   "toc_section_display": true,
   "toc_window_display": true
  }
 },
 "nbformat": 4,
 "nbformat_minor": 1
}
